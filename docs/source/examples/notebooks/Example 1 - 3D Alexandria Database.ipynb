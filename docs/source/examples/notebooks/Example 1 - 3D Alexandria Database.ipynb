{
 "cells": [
  {
   "cell_type": "markdown",
   "metadata": {},
   "source": [
    "# 3D Alexandria Database\n",
    "\n",
    "\n",
    "![alexandria_3d](images/alexandria_3d_database.png)"
   ]
  },
  {
   "cell_type": "code",
   "execution_count": null,
   "metadata": {},
   "outputs": [],
   "source": [
    "!pip install parquetdb\n",
    "!pip install pymatgen"
   ]
  },
  {
   "cell_type": "code",
   "execution_count": 1,
   "metadata": {},
   "outputs": [],
   "source": [
    "import json\n",
    "import os\n",
    "import logging\n",
    "from glob import glob\n",
    "import shutil\n",
    "import time\n",
    "\n",
    "import numpy as np\n",
    "from pyarrow import compute as pc\n",
    "\n",
    "from parquetdb.core.parquetdb import LoadConfig, NormalizeConfig\n",
    "from parquetdb.utils.general_utils import timeit\n",
    "from parquetdb import ParquetDB, config\n",
    "from parquetdb.utils.external_utils import download_alexandria_3d_database\n",
    "\n",
    "import matplotlib.pyplot as plt"
   ]
  },
  {
   "cell_type": "markdown",
   "metadata": {},
   "source": [
    "## Setup"
   ]
  },
  {
   "cell_type": "markdown",
   "metadata": {},
   "source": [
    "### Setup data directories"
   ]
  },
  {
   "cell_type": "code",
   "execution_count": 2,
   "metadata": {},
   "outputs": [],
   "source": [
    "base_dir = os.path.join(config.data_dir, \"external\", \"alexandria\", \"AlexandriaDB\")\n",
    "benchmark_dir = os.path.join(config.data_dir, \"benchmarks\", \"alexandria\")"
   ]
  },
  {
   "cell_type": "markdown",
   "metadata": {},
   "source": [
    "### Download the database\n",
    "\n",
    "Lets download the database"
   ]
  },
  {
   "cell_type": "code",
   "execution_count": 3,
   "metadata": {},
   "outputs": [
    {
     "name": "stdout",
     "output_type": "stream",
     "text": [
      "Starting task: download_alexandria_database\n",
      "Database downloaded already. Skipping download.\n",
      "Done with task: download_alexandria_database\n",
      "--------------------------------------------------------------------------------------------------------------------------------------------------------------------------------------------------------\n",
      "Z:\\data\\parquetdb\\data\\external\\alexandria\\uncompressed\n"
     ]
    }
   ],
   "source": [
    "def download_alexandria_database(base_dir, from_scratch=False):\n",
    "    print(\"Starting task: download_alexandria_database\")\n",
    "    if from_scratch and os.path.exists(base_dir):\n",
    "        print(f\"Removing existing directory: {base_dir}\")\n",
    "        shutil.rmtree(base_dir, ignore_errors=True)\n",
    "\n",
    "    # Here we download the database and save it to the data directory\n",
    "    output_dir = os.path.join(config.data_dir, \"external\", \"alexandria\")\n",
    "    alexandria_dir = download_alexandria_3d_database(output_dir, n_cores=8)\n",
    "    print(\"Done with task: download_alexandria_database\")\n",
    "    print(\"-\" * 200)\n",
    "    return alexandria_dir\n",
    "\n",
    "\n",
    "alexandria_dir = download_alexandria_database(base_dir, from_scratch=False)\n",
    "print(alexandria_dir)"
   ]
  },
  {
   "cell_type": "markdown",
   "metadata": {},
   "source": [
    "## Creating the database\n"
   ]
  },
  {
   "cell_type": "code",
   "execution_count": 4,
   "metadata": {},
   "outputs": [
    {
     "name": "stdout",
     "output_type": "stream",
     "text": [
      "[INFO] 2025-04-22 09:14:49 - parquetdb.core.parquetdb[205][__init__] - Initializing ParquetDB with db_path: Z:\\data\\parquetdb\\data\\external\\alexandria\\AlexandriaDB\\alexandria_3D\n",
      "[INFO] 2025-04-22 09:14:49 - parquetdb.core.parquetdb[207][__init__] - verbose: 1\n",
      "============================================================\n",
      "PARQUETDB SUMMARY\n",
      "============================================================\n",
      "Database path: Z:\\data\\parquetdb\\data\\external\\alexandria\\AlexandriaDB\\alexandria_3D\n",
      "\n",
      "• Number of columns: 128\n",
      "• Number of rows: 4389295\n",
      "• Number of files: 1\n",
      "• Number of rows per file: [4389295]\n",
      "• Number of row groups per file: [22]\n",
      "• Serialized metadata size per file: [377883] Bytes\n",
      "\n",
      "############################################################\n",
      "METADATA\n",
      "############################################################\n",
      "\n",
      "############################################################\n",
      "COLUMN DETAILS\n",
      "############################################################\n",
      "\n"
     ]
    }
   ],
   "source": [
    "db = ParquetDB(db_path=os.path.join(base_dir, \"alexandria_3D\"))\n",
    "print(db)"
   ]
  },
  {
   "cell_type": "markdown",
   "metadata": {},
   "source": [
    "Lets Define some dictionaries to store some benchmark results\n"
   ]
  },
  {
   "cell_type": "code",
   "execution_count": 5,
   "metadata": {},
   "outputs": [],
   "source": [
    "benchmark_dict = {\n",
    "    \"create_times\": [],\n",
    "    \"json_load_times\": [],\n",
    "    \"n_rows_per_file\": [],\n",
    "}\n",
    "\n",
    "task_benchmark_dict = {\"task_names\": [], \"task_times\": []}"
   ]
  },
  {
   "cell_type": "markdown",
   "metadata": {},
   "source": [
    "### Inputing the data\n",
    "\n",
    "Here I am just iterating over the json files and creating the database. I am also storing how long it takes to load each json file, how many materials, and how long it takes to input the data into the database.\n",
    "\n",
    "This dataset is rather large, so you may have to choose the normalization parameters depending on how much RAM you have. If you do not have enough tweak the `batch_size`, `batch_readahead`, `fragment_readahead` parameters.\n"
   ]
  },
  {
   "cell_type": "code",
   "execution_count": 6,
   "metadata": {},
   "outputs": [
    {
     "name": "stdout",
     "output_type": "stream",
     "text": [
      "Starting task: create_database_if_empty\n",
      "Done with task: create_database_if_empty\n",
      "--------------------------------------------------------------------------------------------------------------------------------------------------------------------------------------------------------\n"
     ]
    }
   ],
   "source": [
    "def create_database_if_empty(db, alexandria_dir, normalize_config=NormalizeConfig()):\n",
    "    \"\"\"_summary_\n",
    "\n",
    "    Parameters\n",
    "    ----------\n",
    "    db : ParquetDB Instance\n",
    "        The database instance to create the dataset on.\n",
    "    alexandria_dir : str\n",
    "        The directory containing the json files to input into the database.\n",
    "\n",
    "    Returns\n",
    "    -------\n",
    "    _type_\n",
    "        _description_\n",
    "    \"\"\"\n",
    "    print(\"Starting task: create_database_if_empty\")\n",
    "\n",
    "    start_time = time.time()\n",
    "\n",
    "    json_load_times = []\n",
    "    create_times = []\n",
    "    n_materials_per_file = []\n",
    "    if db.is_empty():\n",
    "        print(\"The dataset does not exist. Creating it.\")\n",
    "        json_files = glob(os.path.join(alexandria_dir, \"*.json\"))\n",
    "        for json_file in json_files[:]:\n",
    "\n",
    "            start_time = time.time()\n",
    "            with open(json_file, \"r\") as f:\n",
    "                data = json.load(f)\n",
    "            json_load_time = time.time() - start_time\n",
    "\n",
    "            base_name = os.path.basename(json_file)\n",
    "            n_materials = len(data[\"entries\"])\n",
    "            print(f\"Processing file: {base_name}\")\n",
    "            print(f\"Number of materials: {n_materials}\")\n",
    "            try:\n",
    "                # Since we are importing alot of data it is best\n",
    "                # to normalize the database afterwards\n",
    "                start_time = time.time()\n",
    "                db.create(\n",
    "                    data[\"entries\"],\n",
    "                    normalize_dataset=False,\n",
    "                    normalize_config=normalize_config,\n",
    "                )\n",
    "                create_time = time.time() - start_time\n",
    "\n",
    "                create_times.append(create_time)\n",
    "                n_materials_per_file.append(n_materials)\n",
    "                json_load_times.append(json_load_time)\n",
    "\n",
    "            except Exception as e:\n",
    "                print(e)\n",
    "\n",
    "            data = None\n",
    "\n",
    "            print(f\"Time taken to create dataset: {time.time() - start_time}\")\n",
    "            print(\"-\" * 100)\n",
    "\n",
    "    print(\"Done with task: create_database_if_empty\")\n",
    "    print(\"-\" * 200)\n",
    "    return json_load_times, create_times, n_materials_per_file\n",
    "\n",
    "\n",
    "normalize_config = NormalizeConfig(\n",
    "    load_format=\"batches\",  # Uses the batch generator to normalize\n",
    "    batch_readahead=4,  # Controls the number of batches to load in memory a head of time. This will have impacts on amount of RAM consumed\n",
    "    fragment_readahead=2,  # Controls the number of files to load in memory ahead of time. This will have impacts on amount of RAM consumed\n",
    "    batch_size=100000,  # Controls the batchsize when to use when normalizing. This will have impacts on amount of RAM consumed\n",
    "    max_rows_per_file=100000,  # Controls the max number of rows per parquet file\n",
    "    max_rows_per_group=100000,\n",
    ")  # Controls the max number of rows per group parquet\n",
    "\n",
    "\n",
    "json_load_times, create_times, n_materials_per_file = create_database_if_empty(\n",
    "    db, alexandria_dir, normalize_config=normalize_config\n",
    ")\n",
    "\n",
    "benchmark_dict[\"create_times\"] = create_times\n",
    "benchmark_dict[\"json_load_times\"] = json_load_times\n",
    "benchmark_dict[\"n_rows_per_file\"] = n_materials_per_file"
   ]
  },
  {
   "cell_type": "markdown",
   "metadata": {},
   "source": [
    "## Normalizing the dataset\n",
    "\n",
    "It is best practive to normalize the dataset after all the data has been inputed. This will optimize the performance of the database.\n",
    "\n",
    "First let's see how the data is distributed in the row groups.\n"
   ]
  },
  {
   "cell_type": "code",
   "execution_count": 7,
   "metadata": {},
   "outputs": [
    {
     "name": "stdout",
     "output_type": "stream",
     "text": [
      "============================================================\n",
      "PARQUETDB SUMMARY\n",
      "============================================================\n",
      "Database path: Z:\\data\\parquetdb\\data\\external\\alexandria\\AlexandriaDB\\alexandria_3D\n",
      "\n",
      "• Number of columns: 128\n",
      "• Number of rows: 4389295\n",
      "• Number of files: 1\n",
      "• Number of rows per file: [4389295]\n",
      "• Number of row groups per file: [22]\n",
      "• Number of rows per row group per file: \n",
      "    - alexandria_3D_0.parquet:\n",
      "        - Row group 0: 200000 rows\n",
      "        - Row group 1: 200000 rows\n",
      "        - Row group 2: 200000 rows\n",
      "        - Row group 3: 200000 rows\n",
      "        - Row group 4: 200000 rows\n",
      "        - Row group 5: 200000 rows\n",
      "        - Row group 6: 200000 rows\n",
      "        - Row group 7: 200000 rows\n",
      "        - Row group 8: 200000 rows\n",
      "        - Row group 9: 200000 rows\n",
      "        - Row group 10: 200000 rows\n",
      "        - Row group 11: 200000 rows\n",
      "        - Row group 12: 200000 rows\n",
      "        - Row group 13: 200000 rows\n",
      "        - Row group 14: 200000 rows\n",
      "        - Row group 15: 200000 rows\n",
      "        - Row group 16: 200000 rows\n",
      "        - Row group 17: 200000 rows\n",
      "        - Row group 18: 200000 rows\n",
      "        - Row group 19: 200000 rows\n",
      "        - Row group 20: 200000 rows\n",
      "        - Row group 21: 189295 rows\n",
      "• Serialized metadata size per file: [377883] Bytes\n",
      "\n",
      "############################################################\n",
      "METADATA\n",
      "############################################################\n",
      "\n",
      "############################################################\n",
      "COLUMN DETAILS\n",
      "############################################################\n",
      "\n"
     ]
    }
   ],
   "source": [
    "summary = db.summary(show_row_group_metadata=True)\n",
    "print(summary)"
   ]
  },
  {
   "cell_type": "markdown",
   "metadata": {},
   "source": [
    "Let's check the file size of the parquet files."
   ]
  },
  {
   "cell_type": "code",
   "execution_count": 8,
   "metadata": {},
   "outputs": [
    {
     "name": "stdout",
     "output_type": "stream",
     "text": [
      "alexandria_3D_0.parquet: 2767.1490955352783 MB\n"
     ]
    }
   ],
   "source": [
    "def list_file_sizes(directory, in_MB=True):\n",
    "    \"\"\"Lists the size of files in a directory.\n",
    "\n",
    "    Args:\n",
    "      directory: The path to the directory.\n",
    "    \"\"\"\n",
    "    file_sizes = {}\n",
    "    for filename in os.listdir(directory):\n",
    "        file_path = os.path.join(directory, filename)\n",
    "        if os.path.isfile(file_path):\n",
    "            file_size = os.path.getsize(file_path)\n",
    "            if in_MB:\n",
    "                file_size = file_size / (1024 * 1024)\n",
    "            file_sizes[filename] = file_size\n",
    "    return file_sizes\n",
    "\n",
    "\n",
    "file_sizes = list_file_sizes(db.db_path)\n",
    "\n",
    "for file, size in file_sizes.items():\n",
    "    print(f\"{file}: {size} MB\")"
   ]
  },
  {
   "cell_type": "markdown",
   "metadata": {},
   "source": [
    "Let's also check the size of the row groups.\n",
    "\n"
   ]
  },
  {
   "cell_type": "code",
   "execution_count": 9,
   "metadata": {},
   "outputs": [
    {
     "name": "stdout",
     "output_type": "stream",
     "text": [
      "alexandria_3D_0.parquet\n",
      "     0: 201.08054542541504 MB\n",
      "     1: 220.59319686889648 MB\n",
      "     2: 197.38053512573242 MB\n",
      "     3: 187.26845264434814 MB\n",
      "     4: 227.97186374664307 MB\n",
      "     5: 192.6089096069336 MB\n",
      "     6: 216.52346420288086 MB\n",
      "     7: 198.00727558135986 MB\n",
      "     8: 227.92319583892822 MB\n",
      "     9: 226.87678337097168 MB\n",
      "     10: 244.66320514678955 MB\n",
      "     11: 215.52607440948486 MB\n",
      "     12: 198.7313060760498 MB\n",
      "     13: 204.19597339630127 MB\n",
      "     14: 192.36825561523438 MB\n",
      "     15: 217.40732860565186 MB\n",
      "     16: 215.3526430130005 MB\n",
      "     17: 201.5632438659668 MB\n",
      "     18: 189.40394115447998 MB\n",
      "     19: 200.09145641326904 MB\n",
      "     20: 208.74722480773926 MB\n",
      "     21: 206.02736282348633 MB\n",
      "Average row group size: 208.65055626088923 MB\n"
     ]
    }
   ],
   "source": [
    "row_group_metadata_per_file = db.get_parquet_file_row_group_metadata_per_file(\n",
    "    as_dict=True\n",
    ")\n",
    "row_group_size_per_file = {}\n",
    "sum_row_group_size = 0\n",
    "num_row_groups = 0\n",
    "for file, row_group_metadata in row_group_metadata_per_file.items():\n",
    "    print(f\"{file}\")\n",
    "    row_group_size_per_file[file] = {}\n",
    "    for row_group, metadata in row_group_metadata.items():\n",
    "        row_group_size_per_file[file][row_group] = metadata[\"total_byte_size\"] / (\n",
    "            1024 * 1024\n",
    "        )\n",
    "        sum_row_group_size += row_group_size_per_file[file][row_group]\n",
    "        num_row_groups += 1\n",
    "        print(f\"     {row_group}: {row_group_size_per_file[file][row_group]} MB\")\n",
    "\n",
    "print(f\"Average row group size: {sum_row_group_size/num_row_groups} MB\")"
   ]
  },
  {
   "cell_type": "markdown",
   "metadata": {},
   "source": [
    "For the most optimal performance we should aim for 2GB per file and about 200-500MB per row group.\n",
    "\n",
    "Currently for a row group with 32,768 rows the size of the row group is ~30MB. To get to 200MB we should put 200MB/30MB more rows in the row group or ~200,000 rows.\n",
    "\n",
    "If each rowgroup is about 200MB at 200,000 rows then we should have 2GB/200MB = 10 row groups per file. or 2,000,000 rows per file. "
   ]
  },
  {
   "cell_type": "code",
   "execution_count": 10,
   "metadata": {},
   "outputs": [
    {
     "name": "stdout",
     "output_type": "stream",
     "text": [
      "Starting task: normalize_dataset\n",
      "Done with task: normalize_dataset\n",
      "--------------------------------------------------------------------------------------------------------------------------------------------------------------------------------------------------------\n",
      "============================================================\n",
      "PARQUETDB SUMMARY\n",
      "============================================================\n",
      "Database path: Z:\\data\\parquetdb\\data\\external\\alexandria\\AlexandriaDB\\alexandria_3D\n",
      "\n",
      "• Number of columns: 128\n",
      "• Number of rows: 4389295\n",
      "• Number of files: 3\n",
      "• Number of rows per file: [2000000, 2000000, 389295]\n",
      "• Number of row groups per file: [10, 10, 2]\n",
      "• Number of rows per row group per file: \n",
      "    - alexandria_3D_0.parquet:\n",
      "        - Row group 0: 200000 rows\n",
      "        - Row group 1: 200000 rows\n",
      "        - Row group 2: 200000 rows\n",
      "        - Row group 3: 200000 rows\n",
      "        - Row group 4: 200000 rows\n",
      "        - Row group 5: 200000 rows\n",
      "        - Row group 6: 200000 rows\n",
      "        - Row group 7: 200000 rows\n",
      "        - Row group 8: 200000 rows\n",
      "        - Row group 9: 200000 rows\n",
      "    - alexandria_3D_1.parquet:\n",
      "        - Row group 0: 200000 rows\n",
      "        - Row group 1: 200000 rows\n",
      "        - Row group 2: 200000 rows\n",
      "        - Row group 3: 200000 rows\n",
      "        - Row group 4: 200000 rows\n",
      "        - Row group 5: 200000 rows\n",
      "        - Row group 6: 200000 rows\n",
      "        - Row group 7: 200000 rows\n",
      "        - Row group 8: 200000 rows\n",
      "        - Row group 9: 200000 rows\n",
      "    - alexandria_3D_2.parquet:\n",
      "        - Row group 0: 200000 rows\n",
      "        - Row group 1: 189295 rows\n",
      "• Serialized metadata size per file: [180572, 178843, 48142] Bytes\n",
      "\n",
      "############################################################\n",
      "METADATA\n",
      "############################################################\n",
      "\n",
      "############################################################\n",
      "COLUMN DETAILS\n",
      "############################################################\n",
      "\n"
     ]
    }
   ],
   "source": [
    "def normalize_dataset(db, normalize_config=NormalizeConfig()):\n",
    "    task_name = \"normalize_dataset\"\n",
    "    print(\"Starting task: normalize_dataset\")\n",
    "\n",
    "    db.normalize(normalize_config=normalize_config)\n",
    "    print(\"Done with task: normalize_dataset\")\n",
    "    print(\"-\" * 200)\n",
    "    return task_name\n",
    "\n",
    "\n",
    "normalize_config = NormalizeConfig(\n",
    "    load_format=\"batches\",  # Uses the batch generator to normalize\n",
    "    batch_readahead=4,  # Controls the number of batches to load in memory a head of time. This will have impacts on amount of RAM consumed\n",
    "    fragment_readahead=1,  # Controls the number of files to load in memory ahead of time. This will have impacts on amount of RAM consumed\n",
    "    batch_size=10000,  # Controls the batchsize when to use when normalizing. This will have impacts on amount of RAM consumed\n",
    "    max_rows_per_file=2000000,  # Controls the max number of rows per parquet file\n",
    "    max_rows_per_group=200000,\n",
    "    min_rows_per_group=200000,\n",
    ")  # Controls the max number of rows per group parquet file\n",
    "normalize_dataset(db, normalize_config=normalize_config)\n",
    "print(db.summary(show_row_group_metadata=True))"
   ]
  },
  {
   "cell_type": "markdown",
   "metadata": {},
   "source": [
    "Let's check the file sizes and row group sizes again."
   ]
  },
  {
   "cell_type": "code",
   "execution_count": 11,
   "metadata": {},
   "outputs": [
    {
     "name": "stdout",
     "output_type": "stream",
     "text": [
      "alexandria_3D_0.parquet: 1261.4758415222168 MB\n",
      "alexandria_3D_1.parquet: 1251.6552095413208 MB\n",
      "alexandria_3D_2.parquet: 254.18556213378906 MB\n",
      "alexandria_3D_0.parquet\n",
      "     0: 201.72274780273438 MB\n",
      "     1: 219.45661544799805 MB\n",
      "     2: 197.442889213562 MB\n",
      "     3: 187.3084535598755 MB\n",
      "     4: 227.44355964660645 MB\n",
      "     5: 192.6088399887085 MB\n",
      "     6: 216.52346420288086 MB\n",
      "     7: 198.00727558135986 MB\n",
      "     8: 227.92319583892822 MB\n",
      "     9: 226.87678337097168 MB\n",
      "alexandria_3D_1.parquet\n",
      "     0: 244.66320514678955 MB\n",
      "     1: 215.52607440948486 MB\n",
      "     2: 198.7313995361328 MB\n",
      "     3: 203.92721366882324 MB\n",
      "     4: 191.9358901977539 MB\n",
      "     5: 218.27143096923828 MB\n",
      "     6: 215.63258838653564 MB\n",
      "     7: 201.5486354827881 MB\n",
      "     8: 191.0305995941162 MB\n",
      "     9: 199.67366981506348 MB\n",
      "alexandria_3D_2.parquet\n",
      "     0: 208.74722480773926 MB\n",
      "     1: 206.0274362564087 MB\n",
      "Average row group size: 208.6831451329318 MB\n"
     ]
    }
   ],
   "source": [
    "file_sizes = list_file_sizes(db.db_path)\n",
    "\n",
    "for file, size in file_sizes.items():\n",
    "    print(f\"{file}: {size} MB\")\n",
    "\n",
    "\n",
    "row_group_metadata_per_file = db.get_parquet_file_row_group_metadata_per_file(\n",
    "    as_dict=True\n",
    ")\n",
    "row_group_size_per_file = {}\n",
    "sum_row_group_size = 0\n",
    "num_row_groups = 0\n",
    "for file, row_group_metadata in row_group_metadata_per_file.items():\n",
    "    print(f\"{file}\")\n",
    "    row_group_size_per_file[file] = {}\n",
    "    for row_group, metadata in row_group_metadata.items():\n",
    "        row_group_size_per_file[file][row_group] = metadata[\"total_byte_size\"] / (\n",
    "            1024 * 1024\n",
    "        )\n",
    "        sum_row_group_size += row_group_size_per_file[file][row_group]\n",
    "        num_row_groups += 1\n",
    "        print(f\"     {row_group}: {row_group_size_per_file[file][row_group]} MB\")\n",
    "\n",
    "print(f\"Average row group size: {sum_row_group_size/num_row_groups} MB\")"
   ]
  },
  {
   "cell_type": "markdown",
   "metadata": {},
   "source": [
    "Here we see that the row groups are about 200MB and the file sizes are a 1GB. This is a little smaller because the less files the more common metadata is stored together. I would try to store all the data in the same file in this case"
   ]
  },
  {
   "cell_type": "code",
   "execution_count": 12,
   "metadata": {},
   "outputs": [
    {
     "name": "stdout",
     "output_type": "stream",
     "text": [
      "Starting task: normalize_dataset\n",
      "Done with task: normalize_dataset\n",
      "--------------------------------------------------------------------------------------------------------------------------------------------------------------------------------------------------------\n",
      "============================================================\n",
      "PARQUETDB SUMMARY\n",
      "============================================================\n",
      "Database path: Z:\\data\\parquetdb\\data\\external\\alexandria\\AlexandriaDB\\alexandria_3D\n",
      "\n",
      "• Number of columns: 128\n",
      "• Number of rows: 4389295\n",
      "• Number of files: 1\n",
      "• Number of rows per file: [4389295]\n",
      "• Number of row groups per file: [22]\n",
      "• Number of rows per row group per file: \n",
      "    - alexandria_3D_0.parquet:\n",
      "        - Row group 0: 200000 rows\n",
      "        - Row group 1: 200000 rows\n",
      "        - Row group 2: 200000 rows\n",
      "        - Row group 3: 200000 rows\n",
      "        - Row group 4: 200000 rows\n",
      "        - Row group 5: 200000 rows\n",
      "        - Row group 6: 200000 rows\n",
      "        - Row group 7: 200000 rows\n",
      "        - Row group 8: 200000 rows\n",
      "        - Row group 9: 200000 rows\n",
      "        - Row group 10: 200000 rows\n",
      "        - Row group 11: 200000 rows\n",
      "        - Row group 12: 200000 rows\n",
      "        - Row group 13: 200000 rows\n",
      "        - Row group 14: 200000 rows\n",
      "        - Row group 15: 200000 rows\n",
      "        - Row group 16: 200000 rows\n",
      "        - Row group 17: 200000 rows\n",
      "        - Row group 18: 200000 rows\n",
      "        - Row group 19: 200000 rows\n",
      "        - Row group 20: 200000 rows\n",
      "        - Row group 21: 189295 rows\n",
      "• Serialized metadata size per file: [377929] Bytes\n",
      "\n",
      "############################################################\n",
      "METADATA\n",
      "############################################################\n",
      "\n",
      "############################################################\n",
      "COLUMN DETAILS\n",
      "############################################################\n",
      "\n",
      "alexandria_3D_0.parquet: 2767.2842226028442 MB\n"
     ]
    }
   ],
   "source": [
    "normalize_config = NormalizeConfig(\n",
    "    load_format=\"batches\",  # Uses the batch generator to normalize\n",
    "    batch_readahead=4,  # Controls the number of batches to load in memory a head of time. This will have impacts on amount of RAM consumed\n",
    "    fragment_readahead=1,  # Controls the number of files to load in memory ahead of time. This will have impacts on amount of RAM consumed\n",
    "    batch_size=10000,  # Controls the batchsize when to use when normalizing. This will have impacts on amount of RAM consumed\n",
    "    max_rows_per_file=5000000,  # Controls the max number of rows per parquet file\n",
    "    max_rows_per_group=200000,\n",
    "    min_rows_per_group=200000,\n",
    ")  # Controls the max number of rows per group parquet file\n",
    "normalize_dataset(db, normalize_config=normalize_config)\n",
    "print(db.summary(show_row_group_metadata=True))\n",
    "\n",
    "file_sizes = list_file_sizes(db.db_path)\n",
    "for file, size in file_sizes.items():\n",
    "    print(f\"{file}: {size} MB\")"
   ]
  },
  {
   "cell_type": "markdown",
   "metadata": {},
   "source": [
    "## Basic Operations\n",
    "\n",
    "In this section we are going to test the performance of ParquetDB for basic operations.\n"
   ]
  },
  {
   "cell_type": "markdown",
   "metadata": {},
   "source": [
    "### Reading a single column\n",
    "\n",
    "\n",
    "If one were to want a single property for all materials in alexandria, if it were in json format, we would have to iterate  over and read all the json files to collect the property. "
   ]
  },
  {
   "cell_type": "code",
   "execution_count": 13,
   "metadata": {},
   "outputs": [
    {
     "name": "stdout",
     "output_type": "stream",
     "text": [
      "Starting task: read_single_column\n",
      "(4389295, 1)\n",
      "--------------------------------------------------------------------------------------------------------------------------------------------------------------------------------------------------------\n",
      "Time to read from parquetdb: 0.04 seconds\n",
      "Time to read from json: 0.00 seconds\n"
     ]
    }
   ],
   "source": [
    "total_time_to_read_from_json = sum(benchmark_dict[\"json_load_times\"])\n",
    "\n",
    "\n",
    "def read_single_column(db):\n",
    "    task_name = \"read_single_column\"\n",
    "    print(\"Starting task: read_single_column\")\n",
    "    table = db.read(columns=[\"id\"], load_format=\"table\")\n",
    "    print(table.shape)\n",
    "    print(\"-\" * 200)\n",
    "    return task_name\n",
    "\n",
    "\n",
    "start_time = time.time()\n",
    "task_name = read_single_column(db)\n",
    "read_single_column_time = time.time() - start_time\n",
    "\n",
    "task_benchmark_dict[\"task_names\"].append(task_name)\n",
    "task_benchmark_dict[\"task_times\"].append(read_single_column_time)\n",
    "\n",
    "print(f\"Time to read from parquetdb: {read_single_column_time:.2f} seconds\")\n",
    "print(f\"Time to read from json: {total_time_to_read_from_json:.2f} seconds\")"
   ]
  },
  {
   "cell_type": "markdown",
   "metadata": {},
   "source": [
    "## Reading specific ids\n",
    "\n",
    "Now, if we were to want speific columns, at minimum time to do this in json format would be the same time as iterating over the json files.\n",
    "\n",
    "In ParquetDB, it is much simpler and less memory intensive to read specific ids.\n",
    "\n",
    "\n"
   ]
  },
  {
   "cell_type": "code",
   "execution_count": 14,
   "metadata": {},
   "outputs": [
    {
     "name": "stdout",
     "output_type": "stream",
     "text": [
      "Starting task: read_specific_ids\n",
      "0      10000\n",
      "1          0\n",
      "2         10\n",
      "3        100\n",
      "4       1000\n",
      "5     100000\n",
      "6    1000000\n",
      "Name: id, dtype: int64\n",
      "                   @class                            @module  composition.Ac  \\\n",
      "0  ComputedStructureEntry  pymatgen.entries.computed_entries             2.0   \n",
      "1  ComputedStructureEntry  pymatgen.entries.computed_entries             1.0   \n",
      "2  ComputedStructureEntry  pymatgen.entries.computed_entries             1.0   \n",
      "3  ComputedStructureEntry  pymatgen.entries.computed_entries             1.0   \n",
      "4  ComputedStructureEntry  pymatgen.entries.computed_entries             2.0   \n",
      "\n",
      "   composition.Ag  composition.Al  composition.Ar  composition.As  \\\n",
      "0             NaN             NaN             NaN             NaN   \n",
      "1             NaN             NaN             NaN             NaN   \n",
      "2             NaN             NaN             NaN             NaN   \n",
      "3             NaN             NaN             NaN             NaN   \n",
      "4             NaN             NaN             NaN             NaN   \n",
      "\n",
      "   composition.Au  composition.B  composition.Ba  ...  structure.lattice.a  \\\n",
      "0             NaN            NaN             NaN  ...             4.829086   \n",
      "1             NaN            NaN             NaN  ...            10.091510   \n",
      "2             NaN            NaN             NaN  ...            15.519920   \n",
      "3             NaN            NaN             NaN  ...             5.789011   \n",
      "4             NaN            NaN             NaN  ...             8.695520   \n",
      "\n",
      "   structure.lattice.alpha  structure.lattice.b  structure.lattice.beta  \\\n",
      "0                90.000000             4.829086               90.000000   \n",
      "1               109.471217            10.091510              109.471222   \n",
      "2                89.997963            11.000739               89.996986   \n",
      "3               111.411199             8.109282               99.469696   \n",
      "4                69.601810             7.709933               55.506047   \n",
      "\n",
      "   structure.lattice.c  structure.lattice.gamma  \\\n",
      "0             9.745281                90.000000   \n",
      "1            10.091511               109.471219   \n",
      "2             5.192681                45.191179   \n",
      "3             8.109282                99.469696   \n",
      "4             7.709933                55.506037   \n",
      "\n",
      "                            structure.lattice.matrix  structure.lattice.pbc  \\\n",
      "0  [4.82908586, 0.0, 0.0, 0.0, 4.82908586, 0.0, 0...     [True, True, True]   \n",
      "1  [9.51436671, 2e-08, -3.36383678, -4.75718337, ...     [True, True, True]   \n",
      "2  [15.51989271, -0.00721914, 0.02799947, 7.75631...     [True, True, True]   \n",
      "3  [5.78373142, -0.13705652, -0.20571227, -1.1463...     [True, True, True]   \n",
      "4  [7.92465233, 0.98010515, 3.44257929, 3.2101699...     [True, True, True]   \n",
      "\n",
      "   structure.lattice.volume                                    structure.sites  \n",
      "0                227.260645  [{'abc': [0.0, 0.5, 0.2399718], 'label': 'Ac',...  \n",
      "1                791.127799  [{'abc': [0.0, 0.0, 0.0], 'label': 'Ac', 'prop...  \n",
      "2                628.973408  [{'abc': [3e-06, 3e-06, 0.0], 'label': 'Ac', '...  \n",
      "3                338.968680  [{'abc': [0.5, 0.0, 0.0], 'label': 'Ac', 'prop...  \n",
      "4                350.818535  [{'abc': [0.83221258, 0.94982224, 0.94982224],...  \n",
      "\n",
      "[5 rows x 128 columns]\n",
      "(7, 128)\n",
      "[dtype('O'), dtype('int64'), dtype('float64')]\n",
      "Data : 129\n",
      "['@class', '@module', 'composition.Ac', 'composition.Ag', 'composition.Al', 'composition.Ar', 'composition.As', 'composition.Au', 'composition.B', 'composition.Ba', 'composition.Be', 'composition.Bi', 'composition.Br', 'composition.C', 'composition.Ca', 'composition.Cd', 'composition.Ce', 'composition.Cl', 'composition.Co', 'composition.Cr', 'composition.Cs', 'composition.Cu', 'composition.Dy', 'composition.Er', 'composition.Eu', 'composition.F', 'composition.Fe', 'composition.Ga', 'composition.Gd', 'composition.Ge', 'composition.H', 'composition.He', 'composition.Hf', 'composition.Hg', 'composition.Ho', 'composition.I', 'composition.In', 'composition.Ir', 'composition.K', 'composition.Kr', 'composition.La', 'composition.Li', 'composition.Lu', 'composition.Mg', 'composition.Mn', 'composition.Mo', 'composition.N', 'composition.Na', 'composition.Nb', 'composition.Nd', 'composition.Ne', 'composition.Ni', 'composition.Np', 'composition.O', 'composition.Os', 'composition.P', 'composition.Pa', 'composition.Pb', 'composition.Pd', 'composition.Pm', 'composition.Pr', 'composition.Pt', 'composition.Pu', 'composition.Rb', 'composition.Re', 'composition.Rh', 'composition.Ru', 'composition.S', 'composition.Sb', 'composition.Sc', 'composition.Se', 'composition.Si', 'composition.Sm', 'composition.Sn', 'composition.Sr', 'composition.Ta', 'composition.Tb', 'composition.Tc', 'composition.Te', 'composition.Th', 'composition.Ti', 'composition.Tl', 'composition.Tm', 'composition.U', 'composition.V', 'composition.W', 'composition.Xe', 'composition.Y', 'composition.Yb', 'composition.Zn', 'composition.Zr', 'correction', 'data.band_gap_dir', 'data.band_gap_ind', 'data.decomposition', 'data.dos_ef', 'data.e_above_hull', 'data.e_form', 'data.e_phase_separation', 'data.elements', 'data.energy_corrected', 'data.energy_total', 'data.formula', 'data.location', 'data.mat_id', 'data.nsites', 'data.prototype_id', 'data.spg', 'data.stress', 'data.total_mag', 'energy', 'energy_adjustments', 'entry_id', 'id', 'parameters.dummy_field', 'structure.@class', 'structure.@module', 'structure.charge', 'structure.lattice.a', 'structure.lattice.alpha', 'structure.lattice.b', 'structure.lattice.beta', 'structure.lattice.c', 'structure.lattice.gamma', 'structure.lattice.matrix', 'structure.lattice.pbc', 'structure.lattice.volume', 'structure.sites']\n",
      "Done with task: read_specific_ids\n",
      "--------------------------------------------------------------------------------------------------------------------------------------------------------------------------------------------------------\n",
      "Time to read from parquetdb: 4.16 seconds\n",
      "Time to read from json: 0.00 seconds\n"
     ]
    }
   ],
   "source": [
    "def read_specific_ids(db):\n",
    "    task_name = \"read_specific_ids\"\n",
    "    print(\"Starting task: read_specific_ids\")\n",
    "    table = db.read(\n",
    "        ids=[\n",
    "            0,\n",
    "            10,\n",
    "            100,\n",
    "            1000,\n",
    "            10000,\n",
    "            100000,\n",
    "            1000000,\n",
    "        ],  # Controls which rows we want to read\n",
    "        load_format=\"table\",  # Controls the output format. The options are 'table', 'batches', `dataset`.\n",
    "    )\n",
    "\n",
    "    df = table.to_pandas()  # Converts the table to a pandas dataframe\n",
    "    print(df[\"id\"])\n",
    "    print(df.head())\n",
    "    print(df.shape)\n",
    "\n",
    "    print(f\"Data : {df.iloc[0]['data.spg']}\")\n",
    "    print(list(df.columns))\n",
    "    print(\"Done with task: read_specific_ids\")\n",
    "    print(\"-\" * 200)\n",
    "    return task_name\n",
    "\n",
    "\n",
    "start_time = time.time()\n",
    "task_name = read_specific_ids(db)\n",
    "read_specific_ids_time = time.time() - start_time\n",
    "\n",
    "task_benchmark_dict[\"task_names\"].append(task_name)\n",
    "task_benchmark_dict[\"task_times\"].append(read_specific_ids_time)\n",
    "\n",
    "print(f\"Time to read from parquetdb: {read_specific_ids_time:.2f} seconds\")\n",
    "print(f\"Time to read from json: {total_time_to_read_from_json:.2f} seconds\")"
   ]
  },
  {
   "cell_type": "markdown",
   "metadata": {},
   "source": [
    "### Finding the minimum and maximum of a energy\n"
   ]
  },
  {
   "cell_type": "code",
   "execution_count": 15,
   "metadata": {},
   "outputs": [
    {
     "name": "stdout",
     "output_type": "stream",
     "text": [
      "Starting task: read_energy_min_max\n",
      "(4389295, 1)\n",
      "Min: -1496.5922219, Max: -0.003981\n",
      "Done with task: read_energy_min_max\n",
      "--------------------------------------------------------------------------------------------------------------------------------------------------------------------------------------------------------\n",
      "Time to read from parquetdb: 0.35 seconds\n",
      "Time to read from json: 0.00 seconds\n"
     ]
    }
   ],
   "source": [
    "def read_energy_min_max(db):\n",
    "    task_name = \"read_energy_min_max\"\n",
    "    print(\"Starting task: read_energy_min_max\")\n",
    "    table = db.read(columns=[\"energy\"], load_format=\"table\")\n",
    "    print(table.shape)\n",
    "\n",
    "    result = pc.min_max(table[\"energy\"])\n",
    "    # The result will be a struct with 'min' and 'max' fields\n",
    "    min_value = result[\"min\"].as_py()\n",
    "    max_value = result[\"max\"].as_py()\n",
    "\n",
    "    print(f\"Min: {min_value}, Max: {max_value}\")\n",
    "    print(\"Done with task: read_energy_min_max\")\n",
    "    print(\"-\" * 200)\n",
    "    return task_name\n",
    "\n",
    "\n",
    "start_time = time.time()\n",
    "task_name = read_energy_min_max(db)\n",
    "read_energy_min_max_time = time.time() - start_time\n",
    "\n",
    "task_benchmark_dict[\"task_names\"].append(task_name)\n",
    "task_benchmark_dict[\"task_times\"].append(read_energy_min_max_time)\n",
    "\n",
    "print(f\"Time to read from parquetdb: {read_energy_min_max_time:.2f} seconds\")\n",
    "print(f\"Time to read from json: {total_time_to_read_from_json:.2f} seconds\")"
   ]
  },
  {
   "cell_type": "markdown",
   "metadata": {},
   "source": [
    "### Reading records filtered by energy above -1.0\n"
   ]
  },
  {
   "cell_type": "code",
   "execution_count": 16,
   "metadata": {},
   "outputs": [
    {
     "name": "stdout",
     "output_type": "stream",
     "text": [
      "Starting task: read_filtered_energy_above_minus_one\n",
      "       id    energy\n",
      "0  123136 -0.063105\n",
      "1  123137 -0.125970\n",
      "2  403318 -0.972671\n",
      "3  570682 -0.907343\n",
      "4  570683 -0.901483\n",
      "(46, 2)\n",
      "Done with task: read_filtered_energy_above_minus_one\n",
      "--------------------------------------------------------------------------------------------------------------------------------------------------------------------------------------------------------\n",
      "Time to read from parquetdb: 0.04 seconds\n",
      "Time to read from json: 0.00 seconds\n"
     ]
    }
   ],
   "source": [
    "def read_filtered_energy_above_minus_one(db):\n",
    "    task_name = \"read_filtered_energy_above_-1\"\n",
    "\n",
    "    \"\"\"Read records filtered by energy above -1.0 and track timing.\"\"\"\n",
    "    print(\"Starting task: read_filtered_energy_above_minus_one\")\n",
    "\n",
    "    table = db.read(\n",
    "        columns=[\"id\", \"energy\"],\n",
    "        filters=[pc.field(\"energy\") > -1.0],\n",
    "        load_format=\"table\",\n",
    "    )\n",
    "\n",
    "    df = table.to_pandas()  # Converts the table to a pandas dataframe\n",
    "    print(df.head())\n",
    "    print(df.shape)\n",
    "    print(\"Done with task: read_filtered_energy_above_minus_one\")\n",
    "    print(\"-\" * 200)\n",
    "    return task_name\n",
    "\n",
    "\n",
    "start_time = time.time()\n",
    "task_name = read_filtered_energy_above_minus_one(db)\n",
    "read_filtered_energy_above_minus_one_time = time.time() - start_time\n",
    "\n",
    "task_benchmark_dict[\"task_names\"].append(task_name)\n",
    "task_benchmark_dict[\"task_times\"].append(read_filtered_energy_above_minus_one_time)\n",
    "\n",
    "print(\n",
    "    f\"Time to read from parquetdb: {read_filtered_energy_above_minus_one_time:.2f} seconds\"\n",
    ")\n",
    "print(f\"Time to read from json: {total_time_to_read_from_json:.2f} seconds\")"
   ]
  },
  {
   "cell_type": "markdown",
   "metadata": {},
   "source": [
    "### Reading records filtered by spg 204\n"
   ]
  },
  {
   "cell_type": "code",
   "execution_count": 17,
   "metadata": {},
   "outputs": [
    {
     "name": "stdout",
     "output_type": "stream",
     "text": [
      "Starting task: read_filtered_spg_204\n",
      "      id  data.spg\n",
      "0  10113       204\n",
      "1  10125       204\n",
      "2  10126       204\n",
      "3  10133       204\n",
      "4  10140       204\n",
      "(7240, 2)\n",
      "Done with task: read_filtered_spg_204\n",
      "--------------------------------------------------------------------------------------------------------------------------------------------------------------------------------------------------------\n",
      "Time to read from parquetdb: 0.05 seconds\n",
      "Time to read from json: 0.00 seconds\n"
     ]
    }
   ],
   "source": [
    "def read_filtered_spg_204(db):\n",
    "    task_name = \"read_filtered_spg_204_table\"\n",
    "\n",
    "    print(\"Starting task: read_filtered_spg_204\")\n",
    "    table = db.read(\n",
    "        columns=[\"id\", \"data.spg\"],\n",
    "        filters=[pc.field(\"data.spg\") == 204],\n",
    "        load_format=\"table\",\n",
    "    )\n",
    "\n",
    "    df = table.to_pandas()  # Converts the table to a pandas dataframe\n",
    "    print(df.head())\n",
    "    print(df.shape)\n",
    "\n",
    "    print(\"Done with task: read_filtered_spg_204\")\n",
    "    print(\"-\" * 200)\n",
    "    return task_name\n",
    "\n",
    "\n",
    "start_time = time.time()\n",
    "task_name = read_filtered_spg_204(db)\n",
    "read_filtered_spg_204_time = time.time() - start_time\n",
    "\n",
    "task_benchmark_dict[\"task_names\"].append(task_name)\n",
    "task_benchmark_dict[\"task_times\"].append(read_filtered_spg_204_time)\n",
    "\n",
    "print(f\"Time to read from parquetdb: {read_filtered_spg_204_time:.2f} seconds\")\n",
    "print(f\"Time to read from json: {total_time_to_read_from_json:.2f} seconds\")"
   ]
  },
  {
   "cell_type": "markdown",
   "metadata": {},
   "source": [
    "### Reading records filtered by spg batches\n"
   ]
  },
  {
   "cell_type": "code",
   "execution_count": 18,
   "metadata": {},
   "outputs": [
    {
     "name": "stdout",
     "output_type": "stream",
     "text": [
      "Starting task: read_filtered_spg_batches\n",
      "Total number of rows: 7240, Batches: 4390\n",
      "Done with task: read_filtered_spg_batches\n",
      "--------------------------------------------------------------------------------------------------------------------------------------------------------------------------------------------------------\n",
      "Time to read from parquetdb: 0.76 seconds\n",
      "Time to read from json: 0.00 seconds\n"
     ]
    }
   ],
   "source": [
    "def read_filtered_spg_batches(db):\n",
    "    task_name = \"read_filtered_spg_batches\"\n",
    "    print(\"Starting task: read_filtered_spg_batches\")\n",
    "    generator = db.read(\n",
    "        load_format=\"batches\",\n",
    "        batch_size=1000,\n",
    "        load_config=LoadConfig(\n",
    "            batch_readahead=10,\n",
    "            fragment_readahead=2,\n",
    "            fragment_scan_options=None,\n",
    "            use_threads=True,\n",
    "            memory_pool=None,\n",
    "        ),\n",
    "        columns=[\"id\", \"data.spg\"],\n",
    "        filters=[pc.field(\"data.spg\") == 204],\n",
    "    )\n",
    "\n",
    "    batch_count = 0\n",
    "    num_rows = 0\n",
    "    for table in generator:\n",
    "        df = table.to_pandas()\n",
    "        num_rows += table.num_rows\n",
    "        batch_count += 1\n",
    "    print(f\"Total number of rows: {num_rows}, Batches: {batch_count}\")\n",
    "    print(\"Done with task: read_filtered_spg_batches\")\n",
    "    print(\"-\" * 200)\n",
    "    return task_name\n",
    "\n",
    "\n",
    "start_time = time.time()\n",
    "task_name = read_filtered_spg_batches(db)\n",
    "read_filtered_spg_batches_time = time.time() - start_time\n",
    "\n",
    "task_benchmark_dict[\"task_names\"].append(task_name)\n",
    "task_benchmark_dict[\"task_times\"].append(read_filtered_spg_batches_time)\n",
    "\n",
    "print(f\"Time to read from parquetdb: {read_filtered_spg_batches_time:.2f} seconds\")\n",
    "print(f\"Time to read from json: {total_time_to_read_from_json:.2f} seconds\")"
   ]
  },
  {
   "cell_type": "markdown",
   "metadata": {},
   "source": [
    "### Reading lattice matrix for space group 204\n"
   ]
  },
  {
   "cell_type": "code",
   "execution_count": 19,
   "metadata": {},
   "outputs": [
    {
     "name": "stdout",
     "output_type": "stream",
     "text": [
      "Starting task: read_lattice_matrix_spg_204\n",
      "(7240, 3, 3)\n",
      "Done with task: read_lattice_matrix_spg_204\n",
      "--------------------------------------------------------------------------------------------------------------------------------------------------------------------------------------------------------\n",
      "Time to read from parquetdb: 0.63 seconds\n",
      "Time to read from json: 0.00 seconds\n"
     ]
    }
   ],
   "source": [
    "def read_lattice_matrix_spg_204(db):\n",
    "    task_name = \"read_lattice_matrix_spg_204\"\n",
    "\n",
    "    print(\"Starting task: read_lattice_matrix_spg_204\")\n",
    "\n",
    "    table = db.read(\n",
    "        columns=[\"structure.lattice.matrix\"], filters=[pc.field(\"data.spg\") == 204]\n",
    "    )\n",
    "    lattice = table[\"structure.lattice.matrix\"].combine_chunks().to_numpy_ndarray()\n",
    "    print(lattice.shape)\n",
    "    print(\"Done with task: read_lattice_matrix_spg_204\")\n",
    "    print(\"-\" * 200)\n",
    "    return task_name\n",
    "\n",
    "\n",
    "start_time = time.time()\n",
    "task_name = read_lattice_matrix_spg_204(db)\n",
    "read_lattice_matrix_spg_204_time = time.time() - start_time\n",
    "\n",
    "task_benchmark_dict[\"task_names\"].append(task_name)\n",
    "task_benchmark_dict[\"task_times\"].append(read_lattice_matrix_spg_204_time)\n",
    "\n",
    "print(f\"Time to read from parquetdb: {read_lattice_matrix_spg_204_time:.2f} seconds\")\n",
    "print(f\"Time to read from json: {total_time_to_read_from_json:.2f} seconds\")"
   ]
  },
  {
   "cell_type": "markdown",
   "metadata": {},
   "source": [
    "### Reading nested column selection\n"
   ]
  },
  {
   "cell_type": "code",
   "execution_count": 20,
   "metadata": {},
   "outputs": [
    {
     "name": "stdout",
     "output_type": "stream",
     "text": [
      "Starting task: read_nested_column_selection\n",
      "(4389295, 2)\n",
      "list<element: struct<abc: list<element: double>, label: string, properties: struct<charge: double, forces: list<element: double>, magmom: double>, species: list<element: struct<element: string, occu: int64>>, xyz: list<element: double>>>\n",
      "list<element: struct<abc: list<element: double>, label: string, properties: struct<charge: double, forces: list<element: double>, magmom: double>, species: list<element: struct<element: string, occu: int64>>, xyz: list<element: double>>>\n",
      "Done with task: read_nested_column_selection\n",
      "--------------------------------------------------------------------------------------------------------------------------------------------------------------------------------------------------------\n",
      "Time to read from parquetdb: 3.53 seconds\n",
      "Time to read from json: 0.00 seconds\n"
     ]
    }
   ],
   "source": [
    "def read_nested_column_selection(db):\n",
    "    task_name = \"read_nested_column_selection\"\n",
    "\n",
    "    print(\"Starting task: read_nested_column_selection\")\n",
    "    table = db.read(columns=[\"id\", \"structure.sites\"], load_format=\"table\")\n",
    "\n",
    "    print(table.shape)\n",
    "    print(table[\"structure.sites\"].type)\n",
    "    print(table[\"structure.sites\"].combine_chunks().type)\n",
    "    print(\"Done with task: read_nested_column_selection\")\n",
    "    print(\"-\" * 200)\n",
    "    return task_name\n",
    "\n",
    "\n",
    "start_time = time.time()\n",
    "task_name = read_nested_column_selection(db)\n",
    "read_nested_column_selection_time = time.time() - start_time\n",
    "\n",
    "task_benchmark_dict[\"task_names\"].append(task_name)\n",
    "task_benchmark_dict[\"task_times\"].append(read_nested_column_selection_time)\n",
    "\n",
    "print(f\"Time to read from parquetdb: {read_nested_column_selection_time:.2f} seconds\")\n",
    "print(f\"Time to read from json: {total_time_to_read_from_json:.2f} seconds\")"
   ]
  },
  {
   "cell_type": "markdown",
   "metadata": {},
   "source": [
    "### Nested structure into class"
   ]
  },
  {
   "cell_type": "code",
   "execution_count": 21,
   "metadata": {},
   "outputs": [
    {
     "name": "stdout",
     "output_type": "stream",
     "text": [
      "Starting task: read_nested_structure_into_class\n",
      "(2, 3)\n",
      "struct<band_gap_dir: double, band_gap_ind: double, decomposition: string, dos_ef: double, e_above_hull: double, e_form: double, e_phase_separation: double, elements: list<element: string>, energy_corrected: double, energy_total: double, formula: string, location: string, mat_id: string, nsites: int64, prototype_id: string, spg: int64, stress: extension<arrow.fixed_shape_tensor[value_type=double, shape=[3,3]]>, total_mag: double>\n",
      "structure type\n",
      "struct<@class: string, @module: string, charge: int64, lattice: struct<a: double, alpha: double, b: double, beta: double, c: double, gamma: double, matrix: extension<arrow.fixed_shape_tensor[value_type=double, shape=[3,3]]>, pbc: extension<arrow.fixed_shape_tensor[value_type=bool, shape=[3]]>, volume: double>, sites: list<element: struct<abc: list<element: double>, label: string, properties: struct<charge: double, forces: list<element: double>, magmom: double>, species: list<element: struct<element: string, occu: int64>>, xyz: list<element: double>>>>\n",
      "Full Formula (Ac1 Pr12 Ho7)\n",
      "Reduced Formula: AcPr12Ho7\n",
      "abc   :  10.091510  10.091510  10.091511\n",
      "angles: 109.471217 109.471222 109.471219\n",
      "pbc   :       True       True       True\n",
      "Sites (20)\n",
      "  #  SP           a         b         c    charge  forces                                     magmom\n",
      "---  ----  --------  --------  --------  --------  ---------------------------------------  --------\n",
      "  0  Ac    0         0         0            8.076  [0.0, -0.0, -0.0]                              -0\n",
      "  1  Pr    0.476206  0.707375  0.768831     8.873  [0.0022184, 0.00231648, -0.00126846]           -0\n",
      "  2  Pr    0.938545  0.707375  0.231169     8.873  [0.00045645, 0.00231648, -0.00251434]          -0\n",
      "  3  Pr    0.523794  0.292625  0.231169     8.873  [-0.0022184, -0.00231648, 0.00126846]          -0\n",
      "  4  Pr    0.061455  0.292625  0.768831     8.873  [-0.00045645, -0.00231648, 0.00251434]         -0\n",
      "  5  Pr    0.768831  0.061455  0.292625     8.873  [0.00177791, -0.00155354, -0.00251434]         -0\n",
      "  6  Pr    0.768831  0.476206  0.707375     8.873  [-0.00089694, 0.00307943, 0.00126846]          -0\n",
      "  7  Pr    0.231169  0.938545  0.707375     8.873  [-0.00177791, 0.00155354, 0.00251434]          -0\n",
      "  8  Pr    0.231169  0.523794  0.292625     8.873  [0.00089694, -0.00307943, -0.00126846]         -0\n",
      "  9  Pr    0.707375  0.768831  0.476206     8.873  [0.00223436, 0.00076295, 0.00251434]           -0\n",
      " 10  Pr    0.292625  0.231169  0.523794     8.873  [-0.00223436, -0.00076295, -0.00251434]        -0\n",
      " 11  Pr    0.707375  0.231169  0.938545     8.873  [0.00311533, -0.00076295, 0.00126846]          -0\n",
      " 12  Pr    0.292625  0.768831  0.061455     8.873  [-0.00311533, 0.00076295, -0.00126846]         -0\n",
      " 13  Ho    0.5       0.5       0            7.546  [-0.0, -0.0, -0.0]                              0\n",
      " 14  Ho    0         0.5       0.5          7.546  [0.0, -0.0, -0.0]                               0\n",
      " 15  Ho    0.5       0         0.5          7.546  [-0.0, -0.0, -0.0]                              0\n",
      " 16  Ho    0.5       0.5       0.5          8.703  [-0.0, -0.0, -0.0]                              0\n",
      " 17  Ho    0         0         0.5          8.703  [-0.0, -0.0, -0.0]                              0\n",
      " 18  Ho    0.5       0         0            8.703  [-0.0, -0.0, -0.0]                              0\n",
      " 19  Ho    0         0.5       0            8.703  [-0.0, -0.0, -0.0]                              0\n",
      "Done with task: read_nested_structure_into_class\n",
      "--------------------------------------------------------------------------------------------------------------------------------------------------------------------------------------------------------\n",
      "Time to read from parquetdb: 26.94 seconds\n",
      "Time to read from json: 0.00 seconds\n"
     ]
    }
   ],
   "source": [
    "def read_nested_structure_into_class(db):\n",
    "    # By default the database flattens nested structure for storage.\n",
    "    # However, we provide an option to rebuild the nested structure. This will create a new dataset in {dataset_name}_nested.\n",
    "    # After the creation of the new dataset, the query parameters are applied to the new dataset.\n",
    "    task_name = \"read_nested_structure_into_class\"\n",
    "\n",
    "    print(\"Starting task: read_nested_structure_into_class\")\n",
    "    table = db.read(\n",
    "        columns=[\n",
    "            \"id\",\n",
    "            \"structure\",\n",
    "            \"data\",\n",
    "        ],  # Instead of using the flatten syntax, we can use the nested syntax\n",
    "        ids=[0, 1000000],\n",
    "        load_format=\"table\",\n",
    "        rebuild_nested_struct=True,  # When set to True to rebuild the nested structure\n",
    "        rebuild_nested_from_scratch=False,  # When set to True, the nested structure will be rebuilt from scratch\n",
    "        normalize_config=NormalizeConfig(\n",
    "            load_format=\"batches\",\n",
    "            batch_readahead=2,\n",
    "            fragment_readahead=1,\n",
    "            batch_size=10000,\n",
    "            max_rows_per_file=5000000,\n",
    "            min_rows_per_group=200000,\n",
    "            max_rows_per_group=200000,\n",
    "        ),\n",
    "    )\n",
    "\n",
    "    print(table.shape)\n",
    "    print(table[\"data\"].type)\n",
    "\n",
    "    print(\"structure type\")\n",
    "    print(table[\"structure\"].type)\n",
    "    try:\n",
    "        from pymatgen.core.structure import Structure\n",
    "\n",
    "        structure = Structure.from_dict(\n",
    "            table[\"structure\"].combine_chunks().to_pylist()[0]\n",
    "        )\n",
    "\n",
    "        print(structure)\n",
    "    except Exception as e:\n",
    "        print(e)\n",
    "    print(\"Done with task: read_nested_structure_into_class\")\n",
    "    print(\"-\" * 200)\n",
    "    return task_name\n",
    "\n",
    "\n",
    "start_time = time.time()\n",
    "read_nested_structure_into_class(db)\n",
    "nested_structure_time = time.time() - start_time\n",
    "\n",
    "print(f\"Time to read from parquetdb: {nested_structure_time:.2f} seconds\")\n",
    "print(f\"Time to read from json: {total_time_to_read_from_json:.2f} seconds\")"
   ]
  },
  {
   "cell_type": "markdown",
   "metadata": {},
   "source": [
    "In the previous cell it takes ~ 60 seconds to perform the operation, this is due to reconstructing the nested structure. Further queries will be faster as the nested structure is already built.\n"
   ]
  },
  {
   "cell_type": "code",
   "execution_count": 22,
   "metadata": {},
   "outputs": [
    {
     "name": "stdout",
     "output_type": "stream",
     "text": [
      "Starting task: read_nested_structure_into_class\n",
      "(2, 3)\n",
      "struct<band_gap_dir: double, band_gap_ind: double, decomposition: string, dos_ef: double, e_above_hull: double, e_form: double, e_phase_separation: double, elements: list<element: string>, energy_corrected: double, energy_total: double, formula: string, location: string, mat_id: string, nsites: int64, prototype_id: string, spg: int64, stress: extension<arrow.fixed_shape_tensor[value_type=double, shape=[3,3]]>, total_mag: double>\n",
      "structure type\n",
      "struct<@class: string, @module: string, charge: int64, lattice: struct<a: double, alpha: double, b: double, beta: double, c: double, gamma: double, matrix: extension<arrow.fixed_shape_tensor[value_type=double, shape=[3,3]]>, pbc: extension<arrow.fixed_shape_tensor[value_type=bool, shape=[3]]>, volume: double>, sites: list<element: struct<abc: list<element: double>, label: string, properties: struct<charge: double, forces: list<element: double>, magmom: double>, species: list<element: struct<element: string, occu: int64>>, xyz: list<element: double>>>>\n",
      "Full Formula (Ac1 Pr12 Ho7)\n",
      "Reduced Formula: AcPr12Ho7\n",
      "abc   :  10.091510  10.091510  10.091511\n",
      "angles: 109.471217 109.471222 109.471219\n",
      "pbc   :       True       True       True\n",
      "Sites (20)\n",
      "  #  SP           a         b         c    charge  forces                                     magmom\n",
      "---  ----  --------  --------  --------  --------  ---------------------------------------  --------\n",
      "  0  Ac    0         0         0            8.076  [0.0, -0.0, -0.0]                              -0\n",
      "  1  Pr    0.476206  0.707375  0.768831     8.873  [0.0022184, 0.00231648, -0.00126846]           -0\n",
      "  2  Pr    0.938545  0.707375  0.231169     8.873  [0.00045645, 0.00231648, -0.00251434]          -0\n",
      "  3  Pr    0.523794  0.292625  0.231169     8.873  [-0.0022184, -0.00231648, 0.00126846]          -0\n",
      "  4  Pr    0.061455  0.292625  0.768831     8.873  [-0.00045645, -0.00231648, 0.00251434]         -0\n",
      "  5  Pr    0.768831  0.061455  0.292625     8.873  [0.00177791, -0.00155354, -0.00251434]         -0\n",
      "  6  Pr    0.768831  0.476206  0.707375     8.873  [-0.00089694, 0.00307943, 0.00126846]          -0\n",
      "  7  Pr    0.231169  0.938545  0.707375     8.873  [-0.00177791, 0.00155354, 0.00251434]          -0\n",
      "  8  Pr    0.231169  0.523794  0.292625     8.873  [0.00089694, -0.00307943, -0.00126846]         -0\n",
      "  9  Pr    0.707375  0.768831  0.476206     8.873  [0.00223436, 0.00076295, 0.00251434]           -0\n",
      " 10  Pr    0.292625  0.231169  0.523794     8.873  [-0.00223436, -0.00076295, -0.00251434]        -0\n",
      " 11  Pr    0.707375  0.231169  0.938545     8.873  [0.00311533, -0.00076295, 0.00126846]          -0\n",
      " 12  Pr    0.292625  0.768831  0.061455     8.873  [-0.00311533, 0.00076295, -0.00126846]         -0\n",
      " 13  Ho    0.5       0.5       0            7.546  [-0.0, -0.0, -0.0]                              0\n",
      " 14  Ho    0         0.5       0.5          7.546  [0.0, -0.0, -0.0]                               0\n",
      " 15  Ho    0.5       0         0.5          7.546  [-0.0, -0.0, -0.0]                              0\n",
      " 16  Ho    0.5       0.5       0.5          8.703  [-0.0, -0.0, -0.0]                              0\n",
      " 17  Ho    0         0         0.5          8.703  [-0.0, -0.0, -0.0]                              0\n",
      " 18  Ho    0.5       0         0            8.703  [-0.0, -0.0, -0.0]                              0\n",
      " 19  Ho    0         0.5       0            8.703  [-0.0, -0.0, -0.0]                              0\n",
      "Done with task: read_nested_structure_into_class\n",
      "--------------------------------------------------------------------------------------------------------------------------------------------------------------------------------------------------------\n",
      "Time to read from parquetdb: 2.67 seconds\n",
      "Time to read from json: 0.00 seconds\n"
     ]
    }
   ],
   "source": [
    "start_time = time.time()\n",
    "task_name = read_nested_structure_into_class(db)\n",
    "nested_structure_time = time.time() - start_time\n",
    "\n",
    "task_benchmark_dict[\"task_names\"].append(task_name)\n",
    "task_benchmark_dict[\"task_times\"].append(nested_structure_time)\n",
    "\n",
    "print(f\"Time to read from parquetdb: {nested_structure_time:.2f} seconds\")\n",
    "print(f\"Time to read from json: {total_time_to_read_from_json:.2f} seconds\")"
   ]
  },
  {
   "cell_type": "markdown",
   "metadata": {},
   "source": [
    "### Plotting times"
   ]
  },
  {
   "cell_type": "code",
   "execution_count": 23,
   "metadata": {},
   "outputs": [],
   "source": [
    "import matplotlib.pyplot as plt\n",
    "from parquetdb.utils import matplotlib_utils\n",
    "from matplotlib import rcParams\n",
    "from mpl_toolkits.axes_grid1.inset_locator import inset_axes\n",
    "\n",
    "%matplotlib inline"
   ]
  },
  {
   "cell_type": "code",
   "execution_count": 24,
   "metadata": {
    "tags": [
     "nbsphinx-thumbnail"
    ]
   },
   "outputs": [
    {
     "name": "stderr",
     "output_type": "stream",
     "text": [
      "C:\\Users\\lllang\\AppData\\Local\\Temp\\ipykernel_67684\\1793184629.py:57: UserWarning: This figure includes Axes that are not compatible with tight_layout, so results might be incorrect.\n",
      "  plt.tight_layout()\n"
     ]
    },
    {
     "data": {
      "image/png": "[encoded data removed]",
      "text/plain": [
       "<Figure size 1000x600 with 2 Axes>"
      ]
     },
     "metadata": {},
     "output_type": "display_data"
    }
   ],
   "source": [
    "xlabel_size = 16\n",
    "ylabel_size = 16\n",
    "title_size = 16\n",
    "xtick_size = 14\n",
    "ytick_size = 12\n",
    "\n",
    "inset_xtick_size = 10\n",
    "inset_ytick_size = 10\n",
    "inset_title_size = 12\n",
    "\n",
    "labels = task_benchmark_dict[\"task_names\"]\n",
    "times = task_benchmark_dict[\"task_times\"]\n",
    "# Create the main plot with numbered x labels and an inset showing the same data on a log scale\n",
    "fig, ax = plt.subplots(figsize=(10, 6))\n",
    "\n",
    "# Number the labels\n",
    "numbered_labels = [f\"{i+1}. {label}\" for i, label in enumerate(labels)]\n",
    "\n",
    "# matplotlib_utils.set_palette('Cavalcanti1')\n",
    "matplotlib_utils.set_palette(\"Darjeeling1_alt\")\n",
    "# matplotlib_utils.set_palette('Zissou1')\n",
    "# matplotlib_utils.set_palette('AsteroidCity1')\n",
    "# matplotlib_utils.set_palette('BottleRocket2')\n",
    "colors = rcParams[\"axes.prop_cycle\"].by_key()[\"color\"]\n",
    "# Main horizontal bar plotcolors[:len(times)]\n",
    "# ax.barh(numbered_labels, times, color=\"#59b9de\")\n",
    "ax.barh(numbered_labels, times, color=colors[: len(times)])\n",
    "ax.set_xlabel(\"Total Time (seconds)\", fontsize=xlabel_size)\n",
    "ax.set_ylabel(\"Operations\", fontsize=ylabel_size)\n",
    "\n",
    "ax.tick_params(axis=\"x\", labelsize=xtick_size)\n",
    "ax.tick_params(axis=\"y\", labelsize=ytick_size)\n",
    "ax.set_title(\n",
    "    \"Total Time for Various Operations on dataset with 4.8 million rows\",\n",
    "    fontsize=title_size,\n",
    ")\n",
    "\n",
    "# Inset plot with log scale and just the numbers\n",
    "# ax_inset = inset_axes(ax, width=\"40%\", height=\"30%\", loc=\"center right\")\n",
    "\n",
    "ax_inset = inset_axes(\n",
    "    ax,\n",
    "    width=\"30%\",\n",
    "    height=\"30%\",\n",
    "    loc=\"center right\",\n",
    "    bbox_to_anchor=(-0.05, -0.05, 1, 1),\n",
    "    bbox_transform=ax.transAxes,\n",
    ")\n",
    "ax_inset.barh(range(1, len(labels) + 1), times, color=\"#e52207\")\n",
    "ax_inset.barh(range(1, len(labels) + 1), times, color=colors[: len(times)])\n",
    "ax_inset.set_xscale(\"log\")\n",
    "ax_inset.set_yticks(range(1, len(labels) + 1))  # Show just the numbers\n",
    "ax_inset.set_yticklabels(range(1, len(labels) + 1), fontsize=inset_ytick_size)\n",
    "ax_inset.set_title(\"Log Scale\", fontsize=inset_title_size)\n",
    "\n",
    "# Adjust layout and show the plot\n",
    "plt.tight_layout()\n",
    "\n",
    "plt.show()"
   ]
  }
 ],
 "metadata": {
  "kernelspec": {
   "display_name": "parquetdb_dev",
   "language": "python",
   "name": "python3"
  },
  "language_info": {
   "codemirror_mode": {
    "name": "ipython",
    "version": 3
   },
   "file_extension": ".py",
   "mimetype": "text/x-python",
   "name": "python",
   "nbconvert_exporter": "python",
   "pygments_lexer": "ipython3",
   "version": "3.9.20"
  },
  "nbsphinx": {
   "execute": "never"
  },
  "nbsphinx-thumbnail": {
   "tooltip": "In this example, we store the 3D Alexandria dataset in ParquetDB and record the performance various operations on it."
  }
 },
 "nbformat": 4,
 "nbformat_minor": 2
}
